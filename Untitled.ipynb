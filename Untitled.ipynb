{
 "cells": [
  {
   "cell_type": "markdown",
   "metadata": {},
   "source": [
    "## Vincent's challenge or who is to get the LEGO"
   ]
  },
  {
   "cell_type": "markdown",
   "metadata": {},
   "source": [
    "### Notes:\n",
    "\n",
    "* https://en.wikipedia.org/wiki/Bayesian_information_criterion\n",
    "* https://docs.pymc.io/notebooks/variational_api_quickstart.html"
   ]
  },
  {
   "cell_type": "code",
   "execution_count": 714,
   "metadata": {},
   "outputs": [],
   "source": [
    "%matplotlib inline\n",
    "import matplotlib.pyplot as plt\n",
    "import pymc3 as pm\n",
    "import theano\n",
    "import numpy as np\n",
    "import random\n",
    "import requests as rq\n",
    "import seaborn as sns\n",
    "from hyperopt import STATUS_OK, Trials, fmin, hp, tpe\n",
    "from statistics import mean\n",
    "\n",
    "\n",
    "np.random.seed(42)\n",
    "pm.set_tt_rng(42)"
   ]
  },
  {
   "cell_type": "code",
   "execution_count": 18,
   "metadata": {},
   "outputs": [],
   "source": [
    "def get_distance(emb):\n",
    "    # prepare request\n",
    "    url = \"http://challenge.calmcode.io/attempt/\"\n",
    "\n",
    "    # make request, remember to use your email!\n",
    "    payload = {\"user\": \"Filip Danieluk\",\n",
    "               \"email\": \"filip.danieluk@cbre.com\",\n",
    "               \"emb\": emb}\n",
    "\n",
    "    resp = rq.post(url, json=payload)\n",
    "\n",
    "    # read response\n",
    "    return resp.json()"
   ]
  },
  {
   "cell_type": "code",
   "execution_count": 670,
   "metadata": {},
   "outputs": [],
   "source": [
    "with pm.Model():\n",
    "#     x = pm.Normal('x', mu=1.36, sigma=.9) # 114.2\n",
    "#     x = pm.Cauchy('x', alpha=.95, beta=.14) # under 110\n",
    "#     x = pm.Laplace('x', mu=.95, b=1e-8) # ~110\n",
    "#     x = pm.StudentT('x', nu=15, mu=0.95, sigma=.1) # 106\n",
    "    x = pm.StudentT('x', nu=2.6, mu=0.9, sigma=.1) # 106\n",
    "\n",
    "\n",
    "#     x= pm."
   ]
  },
  {
   "cell_type": "code",
   "execution_count": 671,
   "metadata": {},
   "outputs": [
    {
     "data": {
      "text/plain": [
       "<matplotlib.axes._subplots.AxesSubplot at 0x1faf798b148>"
      ]
     },
     "execution_count": 671,
     "metadata": {},
     "output_type": "execute_result"
    },
    {
     "data": {
      "image/png": "[encoded data removed]",
      "text/plain": [
       "<Figure size 432x288 with 1 Axes>"
      ]
     },
     "metadata": {
      "needs_background": "light"
     },
     "output_type": "display_data"
    }
   ],
   "source": [
    "sns.distplot(x.random(size=100))"
   ]
  },
  {
   "cell_type": "code",
   "execution_count": 672,
   "metadata": {},
   "outputs": [],
   "source": [
    "emb = list(x.random(size=100))"
   ]
  },
  {
   "cell_type": "code",
   "execution_count": 695,
   "metadata": {},
   "outputs": [
    {
     "data": {
      "text/plain": [
       "{'distance': 117.0585309008347,\n",
       " 'datetime': '2020-06-15 17:59:57.496064',\n",
       " 'user': 'Filip Danieluk',\n",
       " 'id': '594cc6f7-f783-44c6-8b53-ab3b9751797e'}"
      ]
     },
     "execution_count": 695,
     "metadata": {},
     "output_type": "execute_result"
    }
   ],
   "source": [
    "# emb = list(x.random(size=100))\n",
    "get_distance(emb)"
   ]
  },
  {
   "cell_type": "code",
   "execution_count": 739,
   "metadata": {},
   "outputs": [],
   "source": [
    "def optimize(random_state=23):\n",
    "    space = {'nu': hp.quniform('nu', 2, 3, .05),\n",
    "             'mu': hp.quniform('mu', 0.2, 2, 0.1),\n",
    "             'sigma': hp.quniform('sigma', 0.2, 3, 0.1)}\n",
    "\n",
    "    best = fmin(score,\n",
    "                space,\n",
    "                algo=tpe.suggest, \n",
    "                max_evals=50)\n",
    "    return best"
   ]
  },
  {
   "cell_type": "code",
   "execution_count": 740,
   "metadata": {},
   "outputs": [],
   "source": [
    "def score(params):\n",
    "    with pm.Model():\n",
    "        print(params)\n",
    "        x = pm.StudentT('x', nu=params['nu'], mu=params['mu'], sigma=params['sigma'])\n",
    "    emb = list(x.random(size=100))\n",
    "    \n",
    "    distances = []\n",
    "    for i in range(0, 5):\n",
    "        distances.append(get_distance(emb)['distance'])\n",
    "    loss = min(distances)\n",
    "    print(loss, distances)\n",
    "    print('\\n')\n",
    "    return {'loss': loss, 'status': STATUS_OK}"
   ]
  },
  {
   "cell_type": "code",
   "execution_count": 741,
   "metadata": {},
   "outputs": [
    {
     "name": "stdout",
     "output_type": "stream",
     "text": [
      "{'mu': 1.4000000000000001, 'nu': 2.4000000000000004, 'sigma': 2.7}                                                                                       \n",
      "149.87861350498926                                                                                                                                       \n",
      "[163.3481261684388, 149.87861350498926, 163.94588879429475, 168.85265908926442, 161.07674293170524]                                                      \n",
      "{'mu': 1.1, 'nu': 2.8000000000000003, 'sigma': 1.7000000000000002}                                                                                       \n",
      "119.84052630537958                                                                                                                                       \n",
      "[134.62663613206857, 137.9118723728884, 119.84052630537958, 138.95178173318217, 120.76059211818621]                                                      \n",
      "{'mu': 1.6, 'nu': 2.25, 'sigma': 0.30000000000000004}                                                                                                    \n",
      "112.73704528363399                                                                                                                                       \n",
      "[112.73704528363399, 132.44398923501393, 113.2118074654711, 119.60502304007944, 133.85593298810372]                                                      \n",
      "{'mu': 1.7000000000000002, 'nu': 2.45, 'sigma': 1.0}                                                                                                     \n",
      "122.37763457993364                                                                                                                                       \n",
      "[133.6124034627124, 134.03109737078634, 122.37763457993364, 138.69719184715552, 142.68590866667122]                                                      \n",
      "{'mu': 0.8, 'nu': 2.35, 'sigma': 1.5}                                                                                                                    \n",
      "113.98795782724325                                                                                                                                       \n",
      "[113.98795782724325, 118.2558487166224, 148.27697084560177, 136.19177312775196, 123.73328820712297]                                                      \n",
      "{'mu': 0.5, 'nu': 2.5, 'sigma': 2.7}                                                                                                                     \n",
      "172.1588892078364                                                                                                                                        \n",
      "[172.1588892078364, 202.03622049867565, 219.3488305473399, 180.13403319149256, 180.67533995990675]                                                       \n",
      "{'mu': 1.9000000000000001, 'nu': 2.6, 'sigma': 1.5}                                                                                                      \n",
      "121.84593854370902                                                                                                                                       \n",
      "[137.15378161176915, 124.49778673804921, 121.84593854370902, 138.86405420011016, 136.8482938370957]                                                      \n",
      "{'mu': 1.8, 'nu': 2.6500000000000004, 'sigma': 2.5}                                                                                                      \n",
      "120.70826175023008                                                                                                                                       \n",
      "[124.71411371789793, 122.4910112697248, 120.70826175023008, 131.8301162263905, 128.52644679731785]                                                       \n",
      "{'mu': 1.5, 'nu': 2.15, 'sigma': 2.8000000000000003}                                                                                                     \n",
      "226.69186627085435                                                                                                                                       \n",
      "[226.69186627085435, 238.91187245495905, 232.68795769308795, 238.02116346791547, 246.95554452671465]                                                     \n",
      "{'mu': 1.9000000000000001, 'nu': 2.0, 'sigma': 2.1}                                                                                                      \n",
      "159.1326582051928                                                                                                                                        \n",
      "[167.81837457742094, 161.3444062654683, 174.34107415146116, 159.1326582051928, 163.96544083712192]                                                       \n",
      "{'mu': 0.7000000000000001, 'nu': 2.9000000000000004, 'sigma': 0.4}                                                                                       \n",
      "113.40652842577089                                                                                                                                       \n",
      "[126.23056378348814, 124.0570503580054, 117.3926836278539, 135.22311732650306, 113.40652842577089]                                                       \n",
      "{'mu': 1.6, 'nu': 2.25, 'sigma': 1.8}                                                                                                                    \n",
      "134.28030069396556                                                                                                                                       \n",
      "[147.90155865735804, 141.67910097803212, 141.55099950390104, 140.8815294454352, 134.28030069396556]                                                      \n",
      "{'mu': 1.4000000000000001, 'nu': 2.4000000000000004, 'sigma': 2.3000000000000003}                                                                        \n",
      "145.72390955497968                                                                                                                                       \n",
      "[165.0503009754109, 162.16868606226393, 145.72390955497968, 160.65160623738367, 153.6200115693368]                                                       \n",
      "{'mu': 1.3, 'nu': 2.4000000000000004, 'sigma': 2.9000000000000004}                                                                                       \n",
      "162.53088460567005                                                                                                                                       \n",
      "[162.53088460567005, 166.05876061877993, 168.94663177775297, 164.95526066185082, 170.99079690347213]                                                     \n",
      "{'mu': 1.8, 'nu': 2.25, 'sigma': 1.9000000000000001}                                                                                                     \n",
      "132.75983216358517                                                                                                                                       \n",
      "[132.75983216358517, 169.72156558939102, 135.93654101311355, 138.2640057409742, 156.4072551583043]                                                       \n",
      "{'mu': 1.0, 'nu': 2.9000000000000004, 'sigma': 0.30000000000000004}                                                                                      \n",
      "111.0237251031197                                                                                                                                        \n",
      "[125.44537380533026, 113.40505738040333, 111.0237251031197, 134.33763094488276, 126.65983117757101]                                                      \n",
      "{'mu': 0.2, 'nu': 2.2, 'sigma': 0.6000000000000001}                                                                                                      \n",
      "113.82076306562108                                                                                                                                       \n",
      "[125.79583219326346, 113.82076306562108, 123.25033966822564, 116.92515216835493, 117.11733680509397]                                                     \n",
      "{'mu': 1.1, 'nu': 2.8000000000000003, 'sigma': 0.7000000000000001}                                                                                       \n",
      "109.083478922915                                                                                                                                         \n",
      "[132.98464419016057, 121.51918168912914, 114.13376419058824, 109.083478922915, 119.03192460746857]                                                       \n",
      "{'mu': 1.5, 'nu': 2.5, 'sigma': 1.4000000000000001}                                                                                                      \n",
      "133.23252127424428                                                                                                                                       \n",
      "[140.01470959372094, 136.0909897042036, 141.46074597568554, 141.67519269599885, 133.23252127424428]                                                      \n",
      "{'mu': 1.4000000000000001, 'nu': 2.75, 'sigma': 1.1}                                                                                                     \n",
      "114.07400597212586                                                                                                                                       \n",
      "[146.1394628383793, 114.07400597212586, 118.08353763723244, 124.23458161628776, 122.98519739677792]                                                      \n",
      "{'mu': 1.0, 'nu': 3.0, 'sigma': 0.8}                                                                                                                     \n",
      "108.77451025532106                                                                                                                                       \n",
      "[109.43924763876707, 116.45990911901931, 121.15935116917726, 110.43275078414386, 108.77451025532106]                                                     \n",
      "{'mu': 1.1, 'nu': 3.0, 'sigma': 0.8}                                                                                                                     \n",
      "121.32487021519924                                                                                                                                       \n",
      "[132.59420695582918, 121.32487021519924, 146.96383767364037, 133.11908736396478, 128.87328918332764]                                                     \n",
      "{'mu': 0.9, 'nu': 3.0, 'sigma': 1.2000000000000002}                                                                                                      \n",
      "116.78458952408073                                                                                                                                       \n",
      "[141.3648475249003, 121.11718708805606, 137.8032002953645, 116.78458952408073, 147.86745051578995]                                                       \n",
      "{'mu': 0.5, 'nu': 2.9000000000000004, 'sigma': 0.7000000000000001}                                                                                       \n",
      "113.48295629346418                                                                                                                                       \n",
      "[156.48606784695272, 113.48295629346418, 131.87652130305335, 119.13083151115552, 117.8024563329906]                                                      \n",
      "{'mu': 1.2000000000000002, 'nu': 2.75, 'sigma': 0.5}                                                                                                     \n",
      "111.26944948202765                                                                                                                                       \n",
      "[129.65529102154233, 111.26944948202765, 129.17776593144913, 113.90240395523641, 120.09378015869414]                                                     \n",
      "{'mu': 0.6000000000000001, 'nu': 2.6500000000000004, 'sigma': 0.9}                                                                                       \n",
      "107.9254896924582                                                                                                                                        \n",
      "[115.59638165091951, 117.62325702985892, 107.9254896924582, 115.35511405120157, 108.96542347107298]                                                      \n",
      "{'mu': 0.6000000000000001, 'nu': 2.6, 'sigma': 0.9}                                                                                                      \n",
      "125.3269757903315                                                                                                                                        \n",
      "[125.3269757903315, 133.3296063382223, 133.51540881242155, 128.69462142358, 133.88927903079497]                                                          \n",
      "{'mu': 0.30000000000000004, 'nu': 2.6500000000000004, 'sigma': 1.3}                                                                                      \n",
      "110.63968450182472                                                                                                                                       \n",
      "[129.07538816596124, 116.59316621861355, 110.63968450182472, 119.74934854196549, 133.2215363948052]                                                      \n",
      "{'mu': 0.4, 'nu': 2.0500000000000003, 'sigma': 1.0}                                                                                                      \n",
      "113.85092963286793                                                                                                                                       \n",
      "[133.12418006861404, 115.93843816695227, 129.53297139120502, 113.85092963286793, 125.15649888218567]                                                     \n",
      "{'mu': 0.8, 'nu': 3.0, 'sigma': 1.2000000000000002}                                                                                                      \n",
      "124.7776031608514                                                                                                                                        \n",
      "[128.31236807919362, 124.7776031608514, 140.09747902569313, 145.56001258769356, 147.2665927882571]                                                       \n",
      "{'mu': 0.9, 'nu': 2.85, 'sigma': 0.5}                                                                                                                    \n",
      "113.06788155835862                                                                                                                                       \n",
      "[113.06788155835862, 126.93232063145855, 120.44470450759536, 129.35270077115092, 118.24819639085723]                                                     \n",
      "{'mu': 0.7000000000000001, 'nu': 2.7, 'sigma': 0.9}                                                                                                      \n",
      "111.11211853634579                                                                                                                                       \n",
      "[111.59222225971145, 111.11211853634579, 133.06826251502892, 133.30372776943648, 117.87558817618478]                                                     \n",
      "{'mu': 0.30000000000000004, 'nu': 2.5500000000000003, 'sigma': 0.2}                                                                                      \n",
      "113.79120817408597                                                                                                                                       \n",
      "[122.47567759571635, 113.79120817408597, 119.39769583900251, 114.82759066874623, 123.53976953667376]                                                     \n",
      "{'mu': 1.0, 'nu': 2.95, 'sigma': 1.6}                                                                                                                    \n",
      "123.65413950862407                                                                                                                                       \n",
      "[143.33955138109903, 123.65413950862407, 125.00896963071371, 131.41880902858176, 140.62350821519874]                                                     \n",
      "{'mu': 0.6000000000000001, 'nu': 2.35, 'sigma': 0.2}                                                                                                     \n",
      "113.53057935555287                                                                                                                                       \n",
      "[124.92733889936554, 113.53057935555287, 121.53908851741352, 126.80735566895548, 117.48156897746588]                                                     \n",
      "{'mu': 1.2000000000000002, 'nu': 2.8000000000000003, 'sigma': 1.7000000000000002}                                                                        \n",
      "145.97366469107317                                                                                                                                       \n",
      "[174.4675210598209, 154.21960180803686, 145.97366469107317, 150.62439122258942, 157.44625879470306]                                                      \n",
      "{'mu': 0.8, 'nu': 2.5500000000000003, 'sigma': 2.0}                                                                                                      \n",
      "121.9788050981301                                                                                                                                        \n",
      "[147.30700587990412, 134.94204110979686, 139.65062855576778, 126.84076711754972, 121.9788050981301]                                                      \n",
      "{'mu': 0.5, 'nu': 2.75, 'sigma': 1.0}                                                                                                                    \n",
      "115.833940394916                                                                                                                                         \n",
      "[115.833940394916, 127.69505214784515, 129.59079286830973, 126.69186546751075, 132.1971504599995]                                                        \n",
      "{'mu': 1.0, 'nu': 2.6500000000000004, 'sigma': 1.4000000000000001}                                                                                       \n",
      "114.65564239577124                                                                                                                                       \n",
      "[129.49479593649835, 124.44111826800675, 125.79722567017394, 115.58079089705804, 114.65564239577124]                                                     \n",
      "{'mu': 0.2, 'nu': 2.1, 'sigma': 0.4}                                                                                                                     \n",
      "112.38323285078967                                                                                                                                       \n",
      "[120.4166096745132, 121.40650459190454, 120.76570834038692, 124.5813183530478, 112.38323285078967]                                                       \n",
      "{'mu': 0.7000000000000001, 'nu': 2.3000000000000003, 'sigma': 0.8}                                                                                       \n",
      "118.90369110517031                                                                                                                                       \n",
      "[131.15677824622446, 130.49053964768802, 129.90380059977926, 121.69453460961216, 118.90369110517031]                                                     \n",
      "{'mu': 1.2000000000000002, 'nu': 2.45, 'sigma': 1.2000000000000002}                                                                                      \n",
      "122.12642222431356                                                                                                                                       \n",
      "[123.31231588554304, 152.4299792215059, 159.601347426625, 135.55516423538023, 122.12642222431356]                                                        \n",
      "{'mu': 0.4, 'nu': 2.85, 'sigma': 2.3000000000000003}                                                                                                     \n",
      "124.40617675442618                                                                                                                                       \n",
      "[131.45909903987828, 133.33602363752033, 125.56275002473599, 140.9149016901485, 124.40617675442618]                                                      \n",
      "{'mu': 0.6000000000000001, 'nu': 2.7, 'sigma': 1.6}                                                                                                      \n",
      "126.68542178221676                                                                                                                                       \n",
      "[129.16229513468178, 126.68542178221676, 143.96612910186562, 132.1207833114949, 139.69113013732834]                                                      \n",
      "{'mu': 0.9, 'nu': 2.45, 'sigma': 0.6000000000000001}                                                                                                     \n",
      "121.29487457301141                                                                                                                                       \n",
      "[133.59128549834222, 121.29487457301141, 130.0092428333821, 129.90735379085595, 129.18854614839498]                                                      \n",
      "{'mu': 0.4, 'nu': 2.6, 'sigma': 1.4000000000000001}                                                                                                      \n",
      "115.6227542267485                                                                                                                                        \n",
      "[126.78649494580742, 131.00131854321197, 134.46199158217496, 131.09039159354967, 115.6227542267485]                                                      \n",
      "{'mu': 1.4000000000000001, 'nu': 2.95, 'sigma': 0.4}                                                                                                     \n",
      "117.4908451220413                                                                                                                                        \n",
      "[136.5047601766466, 121.98823545505725, 117.4908451220413, 134.52721755009608, 128.05657771883108]                                                       \n",
      "{'mu': 2.0, 'nu': 2.95, 'sigma': 1.1}                                                                                                                    \n",
      "122.11214641830077                                                                                                                                       \n",
      "[131.32677620918727, 129.41422777319286, 129.24072013341538, 139.38763987514142, 122.11214641830077]                                                     \n",
      "{'mu': 1.7000000000000002, 'nu': 2.35, 'sigma': 0.30000000000000004}                                                                                     \n",
      "119.0111399262031                                                                                                                                        \n",
      "[124.18502021748766, 119.0111399262031, 124.33152225566562, 130.90571298938886, 121.9681619021106]                                                       \n",
      "{'mu': 1.3, 'nu': 2.2, 'sigma': 1.8}                                                                                                                     \n",
      "189.72421011455506                                                                                                                                       \n",
      "[189.72421011455506, 196.6792966360663, 202.86660329616862, 210.61242817065371, 213.61801892475677]                                                      \n",
      "100%|███████████████████████████████████████████████████████████████████████████████████| 50/50 [00:26<00:00,  1.85trial/s, best loss: 107.9254896924582]\n"
     ]
    },
    {
     "data": {
      "text/plain": [
       "{'mu': 0.6000000000000001, 'nu': 2.6500000000000004, 'sigma': 0.9}"
      ]
     },
     "execution_count": 741,
     "metadata": {},
     "output_type": "execute_result"
    }
   ],
   "source": [
    "optimize()"
   ]
  },
  {
   "cell_type": "code",
   "execution_count": null,
   "metadata": {},
   "outputs": [],
   "source": []
  }
 ],
 "metadata": {
  "kernelspec": {
   "display_name": "Python 3",
   "language": "python",
   "name": "python3"
  },
  "language_info": {
   "codemirror_mode": {
    "name": "ipython",
    "version": 3
   },
   "file_extension": ".py",
   "mimetype": "text/x-python",
   "name": "python",
   "nbconvert_exporter": "python",
   "pygments_lexer": "ipython3",
   "version": "3.7.4"
  }
 },
 "nbformat": 4,
 "nbformat_minor": 4
}
